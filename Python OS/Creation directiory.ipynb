{
 "cells": [
  {
   "cell_type": "code",
   "execution_count": 28,
   "id": "afb584ff-373e-46a6-9eaa-0b52aa0193d6",
   "metadata": {},
   "outputs": [],
   "source": [
    "import os"
   ]
  },
  {
   "cell_type": "code",
   "execution_count": 29,
   "id": "86868e1b-15e7-45c8-9a84-15c93f78a04c",
   "metadata": {},
   "outputs": [
    {
     "data": {
      "text/plain": [
       "'C:\\\\'"
      ]
     },
     "execution_count": 29,
     "metadata": {},
     "output_type": "execute_result"
    }
   ],
   "source": [
    "os.getcwd()"
   ]
  },
  {
   "cell_type": "code",
   "execution_count": 30,
   "id": "b37e79f5-9992-4282-bde4-5024f77fcfe3",
   "metadata": {},
   "outputs": [
    {
     "name": "stdin",
     "output_type": "stream",
     "text": [
      "enter the complete path:  C:\\Users\\kaush\\OneDrive\\Desktop\\NO NEED\n"
     ]
    },
    {
     "name": "stdout",
     "output_type": "stream",
     "text": [
      "C:\\Users\\kaush\\OneDrive\\Desktop\\NO NEED\n"
     ]
    }
   ],
   "source": [
    "name = input(\"enter the complete path: \")\n",
    "os.chdir(name)\n",
    "print(os.getcwd())"
   ]
  },
  {
   "cell_type": "code",
   "execution_count": 31,
   "id": "0ef8c115-fb7a-445f-838c-947c81736863",
   "metadata": {},
   "outputs": [
    {
     "name": "stdout",
     "output_type": "stream",
     "text": [
      "C:\\Users\\kaush\\OneDrive\\Desktop\n"
     ]
    }
   ],
   "source": [
    "os.chdir(\"../\")\n",
    "print(os.getcwd())"
   ]
  },
  {
   "cell_type": "code",
   "execution_count": 32,
   "id": "81cdcfe7-4de6-4848-a722-d6b14e0d64a3",
   "metadata": {},
   "outputs": [
    {
     "name": "stdout",
     "output_type": "stream",
     "text": [
      "C:\\Users\\kaush\\OneDrive\\Desktop\n"
     ]
    }
   ],
   "source": [
    "os.mkdir(\"Mydir\")\n",
    "print(os.getcwd())"
   ]
  },
  {
   "cell_type": "code",
   "execution_count": 33,
   "id": "1f094757-f696-491c-b1bd-54cc0b02bda7",
   "metadata": {},
   "outputs": [],
   "source": [
    "os.makedirs(\"Mydir/hello1/hello2\")\n",
    "#nested directioray"
   ]
  },
  {
   "cell_type": "code",
   "execution_count": 36,
   "id": "9460185b-3733-4699-adbf-9d6f722af88b",
   "metadata": {},
   "outputs": [
    {
     "name": "stdout",
     "output_type": "stream",
     "text": [
      " Volume in drive C has no label.\n",
      " Volume Serial Number is 9871-B2C9\n",
      "\n",
      " Directory of C:\\Users\\kaush\\OneDrive\\Desktop\n",
      "\n",
      "17-08-2025  13:53    <DIR>          .\n",
      "17-08-2025  13:53    <DIR>          ..\n",
      "17-08-2025  13:41    <DIR>          DS and ML by gfg\n",
      "17-08-2025  13:55    <DIR>          Mydir\n",
      "13-08-2025  13:11    <DIR>          NO NEED\n",
      "16-08-2025  20:47               266 Sales.csv.txt\n",
      "               1 File(s)            266 bytes\n",
      "               5 Dir(s)  42,464,014,336 bytes free\n"
     ]
    }
   ],
   "source": [
    "ls"
   ]
  }
 ],
 "metadata": {
  "kernelspec": {
   "display_name": "Python [conda env:base] *",
   "language": "python",
   "name": "conda-base-py"
  },
  "language_info": {
   "codemirror_mode": {
    "name": "ipython",
    "version": 3
   },
   "file_extension": ".py",
   "mimetype": "text/x-python",
   "name": "python",
   "nbconvert_exporter": "python",
   "pygments_lexer": "ipython3",
   "version": "3.13.5"
  }
 },
 "nbformat": 4,
 "nbformat_minor": 5
}
