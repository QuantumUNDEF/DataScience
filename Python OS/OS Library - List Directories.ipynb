{
 "cells": [
  {
   "cell_type": "code",
   "execution_count": 1,
   "id": "e0422cd0-9f0b-4361-b4bb-c4351e00785b",
   "metadata": {},
   "outputs": [
    {
     "data": {
      "text/plain": [
       "'C:\\\\Users\\\\kaush\\\\OneDrive\\\\Desktop\\\\DS and ML by gfg\\\\Python OS'"
      ]
     },
     "execution_count": 1,
     "metadata": {},
     "output_type": "execute_result"
    }
   ],
   "source": [
    "import os \n",
    "os.getcwd()"
   ]
  },
  {
   "cell_type": "code",
   "execution_count": 10,
   "id": "41f805b2-5c72-4041-a00a-e71eed6c9f48",
   "metadata": {},
   "outputs": [
    {
     "name": "stdout",
     "output_type": "stream",
     "text": [
      "['.ipynb_checkpoints', 'Creation directiory.ipynb', 'OS Library - List Directories.ipynb', 'test']\n",
      "1. Creation directiory.ipynb\n",
      "2. OS Library - List Directories.ipynb\n",
      "3. test\n"
     ]
    }
   ],
   "source": [
    "print(os.listdir())\n",
    "sn = 1\n",
    "for i in os.listdir():\n",
    "    if i != \".ipynb_checkpoints\":\n",
    "        print(str(sn) +\". \"+ i)\n",
    "        sn +=1"
   ]
  },
  {
   "cell_type": "code",
   "execution_count": 34,
   "id": "01200307-009f-4e63-a847-b77c73295ad2",
   "metadata": {},
   "outputs": [
    {
     "ename": "SyntaxError",
     "evalue": "invalid syntax (1863451635.py, line 2)",
     "output_type": "error",
     "traceback": [
      "\u001b[1;36m  Cell \u001b[1;32mIn[34], line 2\u001b[1;36m\u001b[0m\n\u001b[1;33m    echo.  > Rapture.txt\u001b[0m\n\u001b[1;37m           ^\u001b[0m\n\u001b[1;31mSyntaxError\u001b[0m\u001b[1;31m:\u001b[0m invalid syntax\n"
     ]
    }
   ],
   "source": [
    "os.getcwd()\n",
    "echo.  > Rapture.txt\n"
   ]
  }
 ],
 "metadata": {
  "kernelspec": {
   "display_name": "Python [conda env:base] *",
   "language": "python",
   "name": "conda-base-py"
  },
  "language_info": {
   "codemirror_mode": {
    "name": "ipython",
    "version": 3
   },
   "file_extension": ".py",
   "mimetype": "text/x-python",
   "name": "python",
   "nbconvert_exporter": "python",
   "pygments_lexer": "ipython3",
   "version": "3.13.5"
  }
 },
 "nbformat": 4,
 "nbformat_minor": 5
}
