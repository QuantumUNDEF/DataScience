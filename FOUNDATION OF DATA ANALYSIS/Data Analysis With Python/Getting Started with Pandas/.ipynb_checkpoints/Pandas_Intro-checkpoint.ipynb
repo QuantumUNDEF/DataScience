{
 "cells": [
  {
   "cell_type": "code",
   "execution_count": null,
   "id": "2aa5c7bc-892e-47f2-9f99-e9da066dd68c",
   "metadata": {},
   "outputs": [],
   "source": [
    "!pip install pandas"
   ]
  },
  {
   "cell_type": "markdown",
   "id": "6e822519-8642-4b1b-9c94-40ee355b2cc7",
   "metadata": {},
   "source": [
    "#Creating a Pandas Series Using Series()"
   ]
  },
  {
   "cell_type": "code",
   "execution_count": null,
   "id": "bde0481c-f701-4e34-879e-44e66949a6d0",
   "metadata": {},
   "outputs": [],
   "source": [
    "#FROM ARRAY"
   ]
  },
  {
   "cell_type": "code",
   "execution_count": 1,
   "id": "06fd97ec-bfd9-4a4d-b100-58627e755d9a",
   "metadata": {
    "panel-layout": {
     "height": -0.0231475830078125,
     "visible": true,
     "width": 100
    }
   },
   "outputs": [
    {
     "name": "stdout",
     "output_type": "stream",
     "text": [
      "List:  [1, 2, 3, 4, 5, 6, 7, 8, 9, 10]\n",
      "Array:  [ 1  2  3  4  5  6  7  8  9 10]\n",
      "Type:  <class 'numpy.ndarray'>\n",
      "Pandas Series:\n",
      "0     1\n",
      "1     2\n",
      "2     3\n",
      "3     4\n",
      "4     5\n",
      "5     6\n",
      "6     7\n",
      "7     8\n",
      "8     9\n",
      "9    10\n",
      "dtype: int64\n",
      "Type:  <class 'pandas.core.series.Series'>\n"
     ]
    }
   ],
   "source": [
    "import pandas as pd\n",
    "import numpy as np\n",
    "#imported pandas and numpy\n",
    "lst = [ i for i in range(1,11)]\n",
    "#created a list of integer\n",
    "print(\"List: \", lst)\n",
    "data = np.array(lst)\n",
    "#converted list to an array\n",
    "print(\"Array: \",data)\n",
    "print(\"Type: \",type(data))\n",
    "#printing array and its data type\n",
    "ser = pd.Series(data)\n",
    "print(f\"Pandas Series:\\n{ser}\")\n",
    "print(\"Type: \",type(ser))\n"
   ]
  },
  {
   "cell_type": "code",
   "execution_count": null,
   "id": "8bd171da-8aaf-4e33-b3f0-f19f0c25e28c",
   "metadata": {},
   "outputs": [],
   "source": [
    "#FROM LIST DIRECTLY "
   ]
  },
  {
   "cell_type": "code",
   "execution_count": 2,
   "id": "aaa0a081-2d92-4606-b9ba-bde98feb1176",
   "metadata": {
    "panel-layout": {
     "height": -0.0231475830078125,
     "visible": true,
     "width": 100
    }
   },
   "outputs": [
    {
     "name": "stdout",
     "output_type": "stream",
     "text": [
      "0    a\n",
      "1    b\n",
      "2    c\n",
      "3    d\n",
      "dtype: object\n",
      "______________________________\n",
      "0    a\n",
      "1    b\n",
      "2    c\n",
      "3    d\n",
      "dtype: object\n"
     ]
    }
   ],
   "source": [
    "data = pd.Series(['a', 'b', 'c', 'd'])\n",
    "print(data)\n",
    "print(\"_\"*30)\n",
    "list3 = ['a', 'b', 'c', 'd']\n",
    "datan = np.array(list3)\n",
    "ser = pd.Series(datan)\n",
    "print(ser)\n",
    "# if(data == datan):\n",
    "#     print(\"Hello:\")\n"
   ]
  },
  {
   "cell_type": "code",
   "execution_count": null,
   "id": "a77fc80d-48f0-486b-bebe-05c661cc65e1",
   "metadata": {
    "panel-layout": {
     "height": -0.0231475830078125,
     "visible": true,
     "width": 100
    }
   },
   "outputs": [],
   "source": [
    "#Bekar h\n",
    "data = np.array(['g', 'e', 'e', 'k', 's'])\n",
    "ser = pd.Series(data)\n",
    "print(ser)"
   ]
  },
  {
   "cell_type": "code",
   "execution_count": 6,
   "id": "74c0dbaf-2034-4644-9f84-24486fe65a24",
   "metadata": {
    "panel-layout": {
     "height": 27.09490966796875,
     "visible": true,
     "width": 100
    }
   },
   "outputs": [
    {
     "name": "stdout",
     "output_type": "stream",
     "text": [
      "______________________________\n",
      "List1 :\n",
      " ['a', 'b', 'c', 'd', 'e', 'f', 'g', 'h', 'i', 'j', 'k', 'l', 'm', 'n', 'o', 'p', 'q', 'r', 's', 't', 'u', 'v', 'w', 'x', 'y', 'z']\n",
      "______________________________\n",
      "List2:\n",
      " ['a', 'b', 'c', 'd', 'e', 'f', 'g', 'h', 'i', 'j', 'k', 'l', 'm', 'n', 'o', 'p', 'q', 'r', 's', 't', 'u', 'v', 'w', 'x', 'y', 'z']\n",
      "______________________________\n",
      "Series 1:\n",
      "0     a\n",
      "1     b\n",
      "2     c\n",
      "3     d\n",
      "4     e\n",
      "5     f\n",
      "6     g\n",
      "7     h\n",
      "8     i\n",
      "9     j\n",
      "10    k\n",
      "11    l\n",
      "12    m\n",
      "13    n\n",
      "14    o\n",
      "15    p\n",
      "16    q\n",
      "17    r\n",
      "18    s\n",
      "19    t\n",
      "20    u\n",
      "21    v\n",
      "22    w\n",
      "23    x\n",
      "24    y\n",
      "25    z\n",
      "dtype: object\n",
      "______________________________\n",
      "Series 2:\n",
      "0     a\n",
      "1     b\n",
      "2     c\n",
      "3     d\n",
      "4     e\n",
      "5     f\n",
      "6     g\n",
      "7     h\n",
      "8     i\n",
      "9     j\n",
      "10    k\n",
      "11    l\n",
      "12    m\n",
      "13    n\n",
      "14    o\n",
      "15    p\n",
      "16    q\n",
      "17    r\n",
      "18    s\n",
      "19    t\n",
      "20    u\n",
      "21    v\n",
      "22    w\n",
      "23    x\n",
      "24    y\n",
      "25    z\n",
      "dtype: object\n",
      "______________________________\n"
     ]
    },
    {
     "data": {
      "text/plain": [
       "97"
      ]
     },
     "execution_count": 6,
     "metadata": {},
     "output_type": "execute_result"
    }
   ],
   "source": [
    "#Ye thoda sa khatank hua\n",
    "alphabet1 = [chr(x) for x in range(ord('a'), ord('z') + 1)]\n",
    "alphabet2 = [chr(x) for x in range(97 , 123)]\n",
    "#printing\n",
    "print(\"_\"*30)\n",
    "print(\"List1 :\\n\",alphabet1)\n",
    "print(\"_\"*30)\n",
    "print(\"List2:\\n\",alphabet2)\n",
    "print(\"_\"*30)\n",
    "#converting alphabet1 to an array\n",
    "data1 = np.array(alphabet1)\n",
    "#converting array to pandas series\n",
    "ser1 = pd.Series(data1)\n",
    "#converting alphabet2 to an array\n",
    "data2 = np.array(alphabet2)\n",
    "#converting array 2 to pandas series\n",
    "ser2 = pd.Series(data1)\n",
    "print(f\"Series 1:\\n{ser1}\")\n",
    "print(\"_\"*30)\n",
    "print(f\"Series 2:\\n{ser2}\")\n",
    "print(\"_\"*30)\n",
    "\n",
    "\n",
    "ord('a')\n"
   ]
  },
  {
   "cell_type": "code",
   "execution_count": null,
   "id": "385a2c50-f611-44eb-ad8d-2c613f41eef7",
   "metadata": {},
   "outputs": [],
   "source": [
    "##Data Frame creation using .DataFrame() function"
   ]
  },
  {
   "cell_type": "code",
   "execution_count": 7,
   "id": "755f0426-7dea-4036-8a2d-16fd283a9998",
   "metadata": {},
   "outputs": [
    {
     "name": "stdout",
     "output_type": "stream",
     "text": [
      "------------------------------\n",
      "([list_3]*5):\n",
      "  0  1  2  3  4  5  6  7  8  9  10\n",
      "0  a  b  c  d  e  f  g  h  i  j  k\n",
      "1  a  b  c  d  e  f  g  h  i  j  k\n",
      "2  a  b  c  d  e  f  g  h  i  j  k\n",
      "3  a  b  c  d  e  f  g  h  i  j  k\n",
      "4  a  b  c  d  e  f  g  h  i  j  k\n",
      "------------------------------\n",
      "([list_3 *5]):\n",
      "  0  1  2  3  4  5  6  7  8  9   ... 45 46 47 48 49 50 51 52 53 54\n",
      "0  a  b  c  d  e  f  g  h  i  j  ...  b  c  d  e  f  g  h  i  j  k\n",
      "\n",
      "[1 rows x 55 columns]\n",
      "------------------------------\n",
      "([list_3], [list_4],[ x for x in range(1, len(list_3) +1)]):\n",
      "  1  2  3  4  5  6  7  8  9  10 11\n",
      "A  a  b  c  d  e  f  g  h  i  j  k\n",
      "B  a  b  c  d  e  f  g  h  i  j  k\n",
      "------------------------------\n",
      "(List_3 *2):\n",
      "    0\n",
      "0   a\n",
      "1   b\n",
      "2   c\n",
      "3   d\n",
      "4   e\n",
      "5   f\n",
      "6   g\n",
      "7   h\n",
      "8   i\n",
      "9   j\n",
      "10  k\n",
      "11  a\n",
      "12  b\n",
      "13  c\n",
      "14  d\n",
      "15  e\n",
      "16  f\n",
      "17  g\n",
      "18  h\n",
      "19  i\n",
      "20  j\n",
      "21  k\n",
      "------------------------------\n",
      "   A  B  C  D  E\n",
      "0  1  2  3  4  5\n",
      "1  1  2  3  4  5\n",
      "2  1  2  3  4  5\n",
      "3  1  2  3  4  5\n",
      "4  1  2  3  4  5\n",
      "5  1  2  3  4  5\n",
      "6  1  2  3  4  5\n",
      "7  1  2  3  4  5\n",
      "8  1  2  3  4  5\n"
     ]
    },
    {
     "data": {
      "text/plain": [
       "pandas.core.frame.DataFrame"
      ]
     },
     "execution_count": 7,
     "metadata": {},
     "output_type": "execute_result"
    }
   ],
   "source": [
    "# Creating DataFrame using List or list of lists\n",
    "list_3 = [ chr(x) for x in range(ord('a'), ord('k') +1)]\n",
    "list_4 =  [ chr(x) for x in range(ord('A'), ord('B') +1)]\n",
    "data = pd.DataFrame([list_3]*5)\n",
    "# 5 references of list_3 as separate rows\n",
    "data2 = pd.DataFrame([list_3 *5])\n",
    "#repeats the inner list elements 5 times, creating one flat list concatenated 5 times\n",
    "data_un = pd.DataFrame([list_3], [list_4], [ x for x in range(1, len(list_3) +1)])\n",
    "# print([list_3 *5])\n",
    "\n",
    "print(\"-\"*30)\n",
    "print(f\"([list_3]*5):\\n{data}\")\n",
    "print(\"-\"*30)\n",
    "print(f\"([list_3 *5]):\\n{data2}\")\n",
    "print(\"-\"*30)\n",
    "print(f\"([list_3], [list_4],[ x for x in range(1, len(list_3) +1)]):\\n{data_un}\")\n",
    "print(\"-\"*30)\n",
    "print(f\"(List_3 *2):\\n{pd.DataFrame(list_3 *2)}\")\n",
    "print(\"-\"*30)\n",
    "lst = [1, 2, 3, 4, 5]\n",
    "df = pd.DataFrame([lst, lst, lst, lst, lst, lst, lst, lst, lst], \n",
    "                  columns=['A', 'B', 'C', 'D', 'E'])\n",
    "\"\"\"This is a list of lists, each being lst.\n",
    "Pandas treats this as multiple rows.\"\"\"\n",
    "print(df)\n",
    "type(data)\n"
   ]
  },
  {
   "cell_type": "code",
   "execution_count": null,
   "id": "aea99a25-0609-4a63-b7a1-40ea63e4e01d",
   "metadata": {},
   "outputs": [],
   "source": [
    "#Assigning Column Names\n",
    "df2 = pd.DataFrame([lst, lst, lst, lst, lst, lst, lst, lst, lst], \n",
    "                  columns=['First', 'Second', 'Third', 'Fourth', 'Fifth'])\n",
    "\n",
    "print(df)"
   ]
  },
  {
   "cell_type": "code",
   "execution_count": null,
   "id": "85407e24-9542-4f4f-aa07-95eae7c23add",
   "metadata": {},
   "outputs": [],
   "source": [
    "#Creating DataFrame from dict of ndarray/lists: \n",
    "import pandas as pd\n",
    "\n",
    "# intialise data of lists.\n",
    "data = {'Name': ['Tom', 'nick', 'krish', 'jack'],\n",
    "        'Age': [20, 21, 19, 18],\n",
    "       \"Friend\" : [\"yes\", \"NO\", False, True]}\n",
    "# Create DataFrame\n",
    "df = pd.DataFrame(data)\n",
    "# Print the output.\n",
    "print(df)"
   ]
  },
  {
   "cell_type": "code",
   "execution_count": null,
   "id": "c0e94490-4a35-420a-ade6-9ab039bdea44",
   "metadata": {},
   "outputs": [],
   "source": [
    "#Checking Data Types in Pandas\n",
    "print(type(df))  # Output: <class 'pandas.core.frame.DataFrame'>\n",
    "print(type(series))  # Output: <class 'pandas.core.series.Series'>"
   ]
  },
  {
   "cell_type": "code",
   "execution_count": null,
   "id": "86805db5-9eec-4bcb-a5f3-3227beca8ea9",
   "metadata": {},
   "outputs": [],
   "source": [
    " Deleting a DataFrame\n",
    "del df\n",
    "print(df)  # This will raise a NameError since df no longer exists."
   ]
  },
  {
   "cell_type": "code",
   "execution_count": null,
   "id": "89a56dc6-09ca-4ffe-a30f-9b114e9bcb8b",
   "metadata": {},
   "outputs": [],
   "source": [
    "# pd.<Press Tab>\n",
    "# Shift + Tab\n",
    "np.array()"
   ]
  }
 ],
 "metadata": {
  "kernelspec": {
   "display_name": "Python [conda env:base] *",
   "language": "python",
   "name": "conda-base-py"
  },
  "language_info": {
   "codemirror_mode": {
    "name": "ipython",
    "version": 3
   },
   "file_extension": ".py",
   "mimetype": "text/x-python",
   "name": "python",
   "nbconvert_exporter": "python",
   "pygments_lexer": "ipython3",
   "version": "3.13.5"
  },
  "panel-cell-order": [
   "06fd97ec-bfd9-4a4d-b100-58627e755d9a",
   "aaa0a081-2d92-4606-b9ba-bde98feb1176",
   "a77fc80d-48f0-486b-bebe-05c661cc65e1",
   "74c0dbaf-2034-4644-9f84-24486fe65a24"
  ]
 },
 "nbformat": 4,
 "nbformat_minor": 5
}
