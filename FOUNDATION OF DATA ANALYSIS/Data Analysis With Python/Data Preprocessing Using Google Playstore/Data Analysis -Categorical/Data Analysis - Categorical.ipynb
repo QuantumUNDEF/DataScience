{
 "cells": [
  {
   "cell_type": "code",
   "execution_count": 22,
   "id": "d49c6ac0-ab7f-4523-b9f5-a4512db2f74b",
   "metadata": {},
   "outputs": [],
   "source": [
    "import os\n",
    "import pandas as pd\n",
    "os.getcwd()\n",
    "os.chdir(\"C:\\\\Users\\\\kaush\\\\OneDrive\\\\Desktop\\DS and ML by gfg\\\\FOUNDATION OF DATA ANALYSIS\\\\Data Analysis With Python\\\\Data Preprocessing Using Google Playstore\\\\Data Analysis -Categorical\")\n",
    "df = pd.read_csv(\"googleplaystore.csv\").dropna()\n"
   ]
  },
  {
   "cell_type": "code",
   "execution_count": 28,
   "id": "a5293169-981b-4539-95e6-c62a7a07357c",
   "metadata": {},
   "outputs": [
    {
     "name": "stdout",
     "output_type": "stream",
     "text": [
      "{'ART_AND_DESIGN': 61, 'AUTO_AND_VEHICLES': 73, 'BEAUTY': 42, 'BOOKS_AND_REFERENCE': 178, 'BUSINESS': 303, 'COMICS': 58, 'COMMUNICATION': 328, 'DATING': 195, 'EDUCATION': 155, 'ENTERTAINMENT': 149, 'EVENTS': 45, 'FINANCE': 323, 'FOOD_AND_DRINK': 109, 'HEALTH_AND_FITNESS': 297, 'HOUSE_AND_HOME': 76, 'LIBRARIES_AND_DEMO': 64, 'LIFESTYLE': 314, 'GAME': 1097, 'FAMILY': 1746, 'MEDICAL': 350, 'SOCIAL': 259, 'SHOPPING': 238, 'PHOTOGRAPHY': 317, 'SPORTS': 319, 'TRAVEL_AND_LOCAL': 226, 'TOOLS': 733, 'PERSONALIZATION': 312, 'PRODUCTIVITY': 351, 'PARENTING': 50, 'WEATHER': 75, 'VIDEO_PLAYERS': 160, 'NEWS_AND_MAGAZINES': 233, 'MAPS_AND_NAVIGATION': 124}\n"
     ]
    }
   ],
   "source": [
    "category = {}\n",
    "for name in df[\"Category\"].unique():\n",
    "    ct = 0\n",
    "    for i in df[\"Category\"]:\n",
    "        if i == name:\n",
    "            ct += 1\n",
    "    category[name] = ct\n",
    "print(category)"
   ]
  },
  {
   "cell_type": "markdown",
   "id": "3d11ab2d-9a10-4999-8e44-d8823b82dc84",
   "metadata": {},
   "source": [
    "#we can do same for other category"
   ]
  },
  {
   "cell_type": "code",
   "execution_count": null,
   "id": "275bdc84-9ef8-49ac-ac2c-4c0be4efc41b",
   "metadata": {},
   "outputs": [],
   "source": [
    "types = {}\n",
    "\n",
    "for name in df['Type'].unique():\n",
    "    ct = 0\n",
    "    for i in df['Type']:\n",
    "        if(i == name):\n",
    "            ct += 1\n",
    "    types[name] = ct\n",
    "    \n",
    "print(types)"
   ]
  },
  {
   "cell_type": "code",
   "execution_count": null,
   "id": "2e701ba9-789a-4d88-bf28-e23e0c6d6f17",
   "metadata": {},
   "outputs": [],
   "source": [
    "content_rating = {}\n",
    "\n",
    "for name in df['Content Rating'].unique():\n",
    "    ct = 0\n",
    "    for i in df['Content Rating']:\n",
    "        if(i == name):\n",
    "            ct += 1\n",
    "    content_rating[name] = ct\n",
    "    \n",
    "print(content_rating)"
   ]
  },
  {
   "cell_type": "markdown",
   "id": "27538dd6-5117-4987-8b61-9c50592ddb47",
   "metadata": {},
   "source": [
    "##Quick Summary Statistics using describe()\n",
    "Instead of iterating manually, we can get quick insights using describe()"
   ]
  },
  {
   "cell_type": "code",
   "execution_count": null,
   "id": "6fbb07a9-effc-4864-a7a1-5996b8464496",
   "metadata": {},
   "outputs": [],
   "source": [
    "df['Reviews'].describe()"
   ]
  },
  {
   "cell_type": "code",
   "execution_count": null,
   "id": "46d0be5e-2157-4629-b491-cd594758ee63",
   "metadata": {},
   "outputs": [],
   "source": []
  }
 ],
 "metadata": {
  "kernelspec": {
   "display_name": "Python [conda env:base] *",
   "language": "python",
   "name": "conda-base-py"
  },
  "language_info": {
   "codemirror_mode": {
    "name": "ipython",
    "version": 3
   },
   "file_extension": ".py",
   "mimetype": "text/x-python",
   "name": "python",
   "nbconvert_exporter": "python",
   "pygments_lexer": "ipython3",
   "version": "3.13.5"
  }
 },
 "nbformat": 4,
 "nbformat_minor": 5
}
