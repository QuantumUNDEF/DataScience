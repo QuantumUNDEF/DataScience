{
 "cells": [
  {
   "cell_type": "code",
   "execution_count": 2,
   "id": "4a2ca49f-05f0-46f8-bdd8-e7e88358a2b5",
   "metadata": {},
   "outputs": [],
   "source": [
    "import pandas as pd\n",
    "#read and remove null values\n",
    "data = pd.read_csv(\"googleplaystore.csv\").dropna()"
   ]
  },
  {
   "cell_type": "markdown",
   "id": "68532cd9-fcf2-40d7-a9e7-51ce3d3ecec2",
   "metadata": {},
   "source": [
    "##Q1. Finding Average Rating"
   ]
  },
  {
   "cell_type": "code",
   "execution_count": 4,
   "id": "e0a82ef8-1046-450c-9870-59faf9483f93",
   "metadata": {},
   "outputs": [
    {
     "name": "stdout",
     "output_type": "stream",
     "text": [
      "Sum: 39235.6\n",
      "Length: 9360\n",
      "Average: 4.19\n"
     ]
    }
   ],
   "source": [
    "print(f\"Sum: {data[\"Rating\"].sum()}\")\n",
    "print(f\"Length: {len(data[\"Rating\"])}\")\n",
    "Sum = data[\"Rating\"].sum()\n",
    "nof = len(data[\"Rating\"])\n",
    "print(f\"Average: {round(Sum/nof,2)}\")\n"
   ]
  },
  {
   "cell_type": "markdown",
   "id": "dfdea80e-82ad-4c5f-910d-a758652725d3",
   "metadata": {},
   "source": [
    "# how many apps are there with rating 5"
   ]
  },
  {
   "cell_type": "code",
   "execution_count": 11,
   "id": "5a3b354f-db86-489b-9bb1-43a40169890d",
   "metadata": {},
   "outputs": [
    {
     "name": "stdout",
     "output_type": "stream",
     "text": [
      "Total app with rating 5:  274\n",
      "329                    Hojiboy Tojiboyev Life Hacks\n",
      "612                   American Girls Mobile Numbers\n",
      "615                                    Awake Dating\n",
      "633                           Spine- The dating app\n",
      "636      Girls Live Talk - Free Text and Video Chat\n",
      "                            ...                    \n",
      "10721                             Mad Dash Fo' Cash\n",
      "10742                         GKPB FP Online Church\n",
      "10776                              Monster Ride Pro\n",
      "10820                               Fr. Daoud Lamei\n",
      "10837              Fr. Mike Schmitz Audio Teachings\n",
      "Name: App, Length: 274, dtype: object\n"
     ]
    }
   ],
   "source": [
    "count = 0\n",
    "for i in data[\"Rating\"]:\n",
    "    if i == 5.0:\n",
    "        count += 1\n",
    "print(\"Total app with rating 5: \",count)\n",
    "apps_with_5_rating = data[data['Rating'] == 5.0]\n",
    "print(apps_with_5_rating['App'])"
   ]
  },
  {
   "cell_type": "code",
   "execution_count": null,
   "id": "4e99de7e-5ac6-4530-aa5c-fd83e53e8010",
   "metadata": {},
   "outputs": [],
   "source": [
    "for i in range(len(data)):\n",
    "    if data['Rating'][i] == 5.0:\n",
    "        print(data['App'][i])\n"
   ]
  },
  {
   "cell_type": "code",
   "execution_count": null,
   "id": "ffe79b30-8588-42b4-bf3a-8a98aa229fca",
   "metadata": {},
   "outputs": [],
   "source": [
    "#filter rows with Rating 5.0 and print App column\n",
    "apps_with_5_rating = data[data['Rating'] == 5.0]\n",
    "print(apps_with_5_rating)\n",
    "print(type(apps_with_5_rating))\n",
    "# print(apps_with_5_rating['App'])\n"
   ]
  }
 ],
 "metadata": {
  "kernelspec": {
   "display_name": "Python [conda env:base] *",
   "language": "python",
   "name": "conda-base-py"
  },
  "language_info": {
   "codemirror_mode": {
    "name": "ipython",
    "version": 3
   },
   "file_extension": ".py",
   "mimetype": "text/x-python",
   "name": "python",
   "nbconvert_exporter": "python",
   "pygments_lexer": "ipython3",
   "version": "3.13.5"
  }
 },
 "nbformat": 4,
 "nbformat_minor": 5
}
