{
 "cells": [
  {
   "cell_type": "markdown",
   "id": "d7e3e1bb-5727-48ac-b3cb-c87093526a06",
   "metadata": {},
   "source": [
    "##Read entire file"
   ]
  },
  {
   "cell_type": "code",
   "execution_count": null,
   "id": "1947e0a4-11a7-45d6-b70b-30d607593f79",
   "metadata": {
    "scrolled": true
   },
   "outputs": [],
   "source": [
    "fd = open(\"sample.txt\", \"r\")\n",
    "data = fd.read()\n",
    "print(data);"
   ]
  },
  {
   "cell_type": "markdown",
   "id": "78c26192-5420-4b2c-90b1-1f686e31a37d",
   "metadata": {},
   "source": [
    "#lets create a function of it"
   ]
  },
  {
   "cell_type": "code",
   "execution_count": null,
   "id": "3ac254d9-effe-481b-a528-11f2fad20658",
   "metadata": {},
   "outputs": [],
   "source": [
    "def returnFileData(file):\n",
    "    txt = open(file)\n",
    "    print(txt.read())\n",
    "returnFileData(\"sample.txt\")"
   ]
  },
  {
   "cell_type": "markdown",
   "id": "3e7ab990-f5ee-4731-8567-afe7f505d737",
   "metadata": {},
   "source": [
    "#Write a Python program to read an entire text file and print its content with line number"
   ]
  },
  {
   "cell_type": "code",
   "execution_count": null,
   "id": "ad43fd6f-c592-41e8-9309-4fe1b8858bf2",
   "metadata": {},
   "outputs": [],
   "source": [
    "with open(\"sample.txt\", 'r') as file:\n",
    "    for i in enumerate(file , 1):\n",
    "        print(i)\n",
    "        # print(j.strip(\"\\n\"))"
   ]
  },
  {
   "cell_type": "code",
   "execution_count": null,
   "id": "50a39c65-cab9-4d92-ae8f-96824df1ee80",
   "metadata": {},
   "outputs": [],
   "source": [
    "def printWithLineNumber(fname):\n",
    "    try:\n",
    "        with open(fname, 'r')  as file:\n",
    "            for line_num, line in enumerate(file, 1):\n",
    "                print(f\"{line_num}: {line.strip()}\")\n",
    "    except FileNotFoundError:\n",
    "        print(f\"Error: The file '{fname}' was not found.\")\n",
    "    except Exception as e:\n",
    "        print(f\"An error Occurred: {e}\")\n",
    "if __name__ == \"__main__\":\n",
    "    filetoread = input(\"Enter the File name with extention (e.g = My_file.txt)\")\n",
    "    printWithLineNumber(filetoread)"
   ]
  },
  {
   "cell_type": "markdown",
   "id": "79b45475-f468-4e96-a44c-1732f0297423",
   "metadata": {},
   "source": [
    "#testing something"
   ]
  },
  {
   "cell_type": "code",
   "execution_count": null,
   "id": "57ef13a1-2431-4c17-a614-75ae72f80674",
   "metadata": {},
   "outputs": [],
   "source": [
    "file = open(\"sample.txt\", 'r')\n",
    "data = file.read()\n",
    "for i, j in enumerate(data):\n",
    "    print(i,j)\n"
   ]
  },
  {
   "cell_type": "markdown",
   "id": "78789d0b-3874-4dbe-b788-10759bf979b9",
   "metadata": {},
   "source": [
    "#Q. write a python program to read an entire text form the file and then count and display the total number of character, words and lines"
   ]
  },
  {
   "cell_type": "code",
   "execution_count": null,
   "id": "ca4869ab-ae85-454b-8795-00bb068b9915",
   "metadata": {},
   "outputs": [],
   "source": [
    "#with open(\"sample.txt\", \"r\") as fd:\n",
    "file = input(\"Enter file name: \")\n",
    "try:\n",
    "    with open(file, \"r\") as fd:\n",
    "        data = fd.read()\n",
    "        print(data)\n",
    "        print(\"Total Character: \",len(data))\n",
    "        print(\"-\"*50)\n",
    "        print(data.split())\n",
    "        print(\"Total words: \",len(data.split()))\n",
    "        print(\"-\"*50)\n",
    "        print(data.split(\".\"))\n",
    "        print(\"Total Line: \",data.count(\"\\n\") + (1 if data else 0))\n",
    "        print(len(data.split(\".\")))\n",
    "        # print(data.split()) # it genrate the list of words by default argument is a white space\n",
    "        print(data.strip(\" \")) \n",
    "except Exception as e:\n",
    "    print(\"Error Found\")"
   ]
  },
  {
   "cell_type": "code",
   "execution_count": null,
   "id": "b3c1df5c-be1e-4659-ab2c-b1fa8730eb87",
   "metadata": {},
   "outputs": [],
   "source": [
    "try:\n",
    "    with open(\"funtion_check.txt\", \"r+\") as fd:\n",
    "        text = \"Hey there! Kaushendra singh this side to check you lk subscriber.\\nYou have to first sign these tems and condition.\\nThen we will consider you to give the OG youtube Play Button.\"\n",
    "        fd.write(text)\n",
    "        fd.seek(0)\n",
    "        data = fd.read()\n",
    "        print(data)\n",
    "        print(data.split(\".\"))\n",
    "        print(len(data.split(\".\")))\n",
    "        print(data.split(\"\\n\"))\n",
    "        print(len(data.split(\"\\n\")))\n",
    "except Exception as e:\n",
    "    print(e)"
   ]
  },
  {
   "cell_type": "markdown",
   "id": "d54ce24d-a929-4138-ac1d-be7e77cf15c7",
   "metadata": {},
   "source": [
    "#Write a Python program to read an entire text file and output only those lines that contain a specific keyword."
   ]
  },
  {
   "cell_type": "code",
   "execution_count": null,
   "id": "a2425b84-c84f-4e69-b3e5-71761f3123c6",
   "metadata": {},
   "outputs": [],
   "source": [
    "print(\"<MY_Code>\")\n",
    "file = input(\"Enter file name: \")\n",
    "keyword = input(\"Enter Keyword: \")\n",
    "try:\n",
    "    with open(file, \"r\") as fd:\n",
    "        txt = fd.read()\n",
    "        lst = txt.split(\".\")\n",
    "        line = [i for i in lst if keyword in i]\n",
    "        print(str(line))\n",
    "except Exception as e:\n",
    "    print(e)\n",
    "\n",
    "print(\"AI Code\")\n",
    "file = input(\"Enter file name: \")\n",
    "keyword = input(\"Enter Keyword\")\n",
    "try:\n",
    "    with open(file, \"r\") as fd:\n",
    "        for line in fd:\n",
    "            if keyword in line:\n",
    "                print(line)\n",
    "except FileNotFoundError as fnfe:\n",
    "    print(fnfe)\n",
    "except Exception as e:\n",
    "    print(e)\n",
    "            "
   ]
  },
  {
   "cell_type": "markdown",
   "id": "8241b27e-fbc4-4cdf-b602-caf300ea5165",
   "metadata": {},
   "source": [
    "#Write a Python program to read an entire text file into a single string and then replace all occurrences of a specified substring."
   ]
  },
  {
   "cell_type": "code",
   "execution_count": null,
   "id": "e4551916-52da-4fee-876f-3afdacae4e0e",
   "metadata": {},
   "outputs": [],
   "source": [
    "file = input(\"file name :\")\n",
    "old = input(\"word to be replace:\")\n",
    "new = input(\"new Word: \") \n",
    "try: \n",
    "    with open(file, \"r\") as fd:\n",
    "        data = fd.read()\n",
    "        new_data = data.replace(old, new)\n",
    "        print(new_data)\n",
    "except FileNotFoundError as notfound:\n",
    "    print(notfound)\n",
    "except Exception as e:\n",
    "    print(e)"
   ]
  },
  {
   "cell_type": "markdown",
   "id": "e9dddc57-716d-463c-9d99-3d75f8250daf",
   "metadata": {},
   "source": [
    "# reading first n line"
   ]
  },
  {
   "cell_type": "code",
   "execution_count": null,
   "id": "e7daf99a-e802-4a44-9ecb-68f45d753619",
   "metadata": {},
   "outputs": [],
   "source": [
    "# Ask user for file name and number of lines\n",
    "file = input(\"Enter file name: \")\n",
    "n = int(input(\"Enter number of lines to read: \"))\n",
    "\n",
    "try:\n",
    "    with open(file, \"r\") as fd:\n",
    "        # Read file line by line\n",
    "        lst = []\n",
    "        for i in range(n):\n",
    "            line = fd.readline()  # Read one line at a time\n",
    "            if not line:  # If file ends before n lines Empty strin is False\n",
    "                break\n",
    "            print(line.strip())\n",
    "            \n",
    "            lst.append(line.strip())\n",
    "        print(lst)\n",
    "            \n",
    "\n",
    "except FileNotFoundError:\n",
    "    print(f\"Error: The file '{file}' was not found.\")\n",
    "except Exception as e:\n",
    "    print(\"An error occurred:\", e)\n"
   ]
  },
  {
   "cell_type": "markdown",
   "id": "239d1c82-3144-4b17-9fd1-8ef7ef26416e",
   "metadata": {},
   "source": [
    "## Write a Python program to read the first n non-empty lines of a file, skipping any blank lines."
   ]
  },
  {
   "cell_type": "code",
   "execution_count": 127,
   "id": "62df6446-1c5c-4139-81c6-d88e4a2ff0a7",
   "metadata": {},
   "outputs": [
    {
     "name": "stdout",
     "output_type": "stream",
     "text": [
      "['this is first line.', 'this is second one.', '3 one']\n"
     ]
    }
   ],
   "source": [
    "def readNonEmptyLine(file, n):\n",
    "    with open(file, \"r\") as fd:\n",
    "        lineList= []\n",
    "        for line in fd:\n",
    "            stripLine = line.strip()\n",
    "            if not stripLine:\n",
    "                continue\n",
    "            lineList.append(stripLine)\n",
    "            if len(lineList) ==n :\n",
    "                break\n",
    "    print(lineList)\n",
    "readNonEmptyLine(\"empty_line.txt\", 3)"
   ]
  },
  {
   "cell_type": "code",
   "execution_count": null,
   "id": "8fe85c2b-85c8-42af-9122-a2718f3c259c",
   "metadata": {},
   "outputs": [],
   "source": []
  }
 ],
 "metadata": {
  "kernelspec": {
   "display_name": "Python [conda env:base] *",
   "language": "python",
   "name": "conda-base-py"
  },
  "language_info": {
   "codemirror_mode": {
    "name": "ipython",
    "version": 3
   },
   "file_extension": ".py",
   "mimetype": "text/x-python",
   "name": "python",
   "nbconvert_exporter": "python",
   "pygments_lexer": "ipython3",
   "version": "3.13.5"
  }
 },
 "nbformat": 4,
 "nbformat_minor": 5
}
