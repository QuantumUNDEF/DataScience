{
 "cells": [
  {
   "cell_type": "code",
   "execution_count": 1,
   "id": "c2b785fe",
   "metadata": {},
   "outputs": [
    {
     "ename": "KeyboardInterrupt",
     "evalue": "Interrupted by user",
     "output_type": "error",
     "traceback": [
      "\u001b[1;31m---------------------------------------------------------------------------\u001b[0m",
      "\u001b[1;31mKeyboardInterrupt\u001b[0m                         Traceback (most recent call last)",
      "Cell \u001b[1;32mIn[1], line 4\u001b[0m\n\u001b[0;32m      2\u001b[0m products \u001b[38;5;241m=\u001b[39m fd\u001b[38;5;241m.\u001b[39mread()\u001b[38;5;241m.\u001b[39msplit(\u001b[38;5;124m\"\u001b[39m\u001b[38;5;130;01m\\n\u001b[39;00m\u001b[38;5;124m\"\u001b[39m)\n\u001b[0;32m      3\u001b[0m fd\u001b[38;5;241m.\u001b[39mclose()\n\u001b[1;32m----> 4\u001b[0m ui_name \u001b[38;5;241m=\u001b[39m \u001b[38;5;28minput\u001b[39m(\u001b[38;5;124m\"\u001b[39m\u001b[38;5;124mEnter Your Name: \u001b[39m\u001b[38;5;124m\"\u001b[39m)\n\u001b[0;32m      5\u001b[0m ui_phone \u001b[38;5;241m=\u001b[39m \u001b[38;5;28minput\u001b[39m(\u001b[38;5;124m\"\u001b[39m\u001b[38;5;124mEnter Yout Phone no: \u001b[39m\u001b[38;5;124m\"\u001b[39m)\n\u001b[0;32m      6\u001b[0m ui_mail \u001b[38;5;241m=\u001b[39m \u001b[38;5;28minput\u001b[39m(\u001b[38;5;124m\"\u001b[39m\u001b[38;5;124mEnter your mail address: \u001b[39m\u001b[38;5;124m\"\u001b[39m)\n",
      "File \u001b[1;32mc:\\Users\\kaush\\anaconda3\\Lib\\site-packages\\ipykernel\\kernelbase.py:1282\u001b[0m, in \u001b[0;36mKernel.raw_input\u001b[1;34m(self, prompt)\u001b[0m\n\u001b[0;32m   1280\u001b[0m     msg \u001b[38;5;241m=\u001b[39m \u001b[38;5;124m\"\u001b[39m\u001b[38;5;124mraw_input was called, but this frontend does not support input requests.\u001b[39m\u001b[38;5;124m\"\u001b[39m\n\u001b[0;32m   1281\u001b[0m     \u001b[38;5;28;01mraise\u001b[39;00m StdinNotImplementedError(msg)\n\u001b[1;32m-> 1282\u001b[0m \u001b[38;5;28;01mreturn\u001b[39;00m \u001b[38;5;28mself\u001b[39m\u001b[38;5;241m.\u001b[39m_input_request(\n\u001b[0;32m   1283\u001b[0m     \u001b[38;5;28mstr\u001b[39m(prompt),\n\u001b[0;32m   1284\u001b[0m     \u001b[38;5;28mself\u001b[39m\u001b[38;5;241m.\u001b[39m_parent_ident[\u001b[38;5;124m\"\u001b[39m\u001b[38;5;124mshell\u001b[39m\u001b[38;5;124m\"\u001b[39m],\n\u001b[0;32m   1285\u001b[0m     \u001b[38;5;28mself\u001b[39m\u001b[38;5;241m.\u001b[39mget_parent(\u001b[38;5;124m\"\u001b[39m\u001b[38;5;124mshell\u001b[39m\u001b[38;5;124m\"\u001b[39m),\n\u001b[0;32m   1286\u001b[0m     password\u001b[38;5;241m=\u001b[39m\u001b[38;5;28;01mFalse\u001b[39;00m,\n\u001b[0;32m   1287\u001b[0m )\n",
      "File \u001b[1;32mc:\\Users\\kaush\\anaconda3\\Lib\\site-packages\\ipykernel\\kernelbase.py:1325\u001b[0m, in \u001b[0;36mKernel._input_request\u001b[1;34m(self, prompt, ident, parent, password)\u001b[0m\n\u001b[0;32m   1322\u001b[0m \u001b[38;5;28;01mexcept\u001b[39;00m \u001b[38;5;167;01mKeyboardInterrupt\u001b[39;00m:\n\u001b[0;32m   1323\u001b[0m     \u001b[38;5;66;03m# re-raise KeyboardInterrupt, to truncate traceback\u001b[39;00m\n\u001b[0;32m   1324\u001b[0m     msg \u001b[38;5;241m=\u001b[39m \u001b[38;5;124m\"\u001b[39m\u001b[38;5;124mInterrupted by user\u001b[39m\u001b[38;5;124m\"\u001b[39m\n\u001b[1;32m-> 1325\u001b[0m     \u001b[38;5;28;01mraise\u001b[39;00m \u001b[38;5;167;01mKeyboardInterrupt\u001b[39;00m(msg) \u001b[38;5;28;01mfrom\u001b[39;00m\u001b[38;5;250m \u001b[39m\u001b[38;5;28;01mNone\u001b[39;00m\n\u001b[0;32m   1326\u001b[0m \u001b[38;5;28;01mexcept\u001b[39;00m \u001b[38;5;167;01mException\u001b[39;00m:\n\u001b[0;32m   1327\u001b[0m     \u001b[38;5;28mself\u001b[39m\u001b[38;5;241m.\u001b[39mlog\u001b[38;5;241m.\u001b[39mwarning(\u001b[38;5;124m\"\u001b[39m\u001b[38;5;124mInvalid Message:\u001b[39m\u001b[38;5;124m\"\u001b[39m, exc_info\u001b[38;5;241m=\u001b[39m\u001b[38;5;28;01mTrue\u001b[39;00m)\n",
      "\u001b[1;31mKeyboardInterrupt\u001b[0m: Interrupted by user"
     ]
    }
   ],
   "source": [
    "fd = open(\"Inventory3.txt\",\"r\")\n",
    "products = fd.read().split(\"\\n\")\n",
    "fd.close()\n",
    "ui_name = input(\"Enter Your Name: \")\n",
    "ui_phone = input(\"Enter Yout Phone no: \")\n",
    "ui_mail = input(\"Enter your mail address: \")\n",
    "ui_prod_id = input(\"Enter Product ID: \")\n",
    "ui_prod_qn = input(\"Enter Quantity: \")\n",
    "updated_prod_lst = []\n",
    "for product in products:\n",
    "    prod_details = product.split(',')\n",
    "    if(prod_details[0] == ui_prod_id):\n",
    "        if(int(prod_details[3]) >= int(ui_prod_qn)):\n",
    "            print(\"-\"*50)\n",
    "            print(\"Product Name  : \",prod_details[1])\n",
    "            print(\"Price         : \",prod_details[2])\n",
    "            print(\"Quantity      : \",prod_details[3])\n",
    "            print(\"-\"*50)\n",
    "            print(\"Billing Amount: \",int(prod_details[2])*int(ui_prod_qn))\n",
    "            print(\"-\"*50)\n",
    "            prod_details[3]= str(int(prod_details[3]) - int(ui_prod_qn))\n",
    "            #genrating the txt file for sales\n",
    "            fd = open(\"Sales.txt\",\"a\")\n",
    "            sales_details = ui_name + ',' + ui_phone + ',' + ui_mail + ',' + prod_details[1]+ ',' +ui_prod_id+ ',' +ui_prod_qn + ',' +str(int(ui_prod_qn)* int(prod_details[2]))+ ',' +time.ctime +\"\\n\"\n",
    "            fd.write(sales_details)\n",
    "            fd.close()\n",
    "        else:\n",
    "            print(f\"Sorry, we're not have enough quantity.\\nWe are having only {prod_details[3]} quantity.\\nWould you like to purchase it?\")\n",
    "            ch = input(\"Press Y or N: \")\n",
    "            if (ch == 'y' or ch ==\"Y\"):\n",
    "                print('-'*50)\n",
    "                print(\"Product Name: \",prod_details[1])\n",
    "                print(\"Price       : \",prod_details[2])\n",
    "                print(\"Quantity    : \",ui_prod_qn)\n",
    "                print('-'*50)\n",
    "                print(\"Billing Amount: \",int(prod_details[2]) * int(prod_details[3]))\n",
    "                print('-'*50)\n",
    "                prod_details[3] = '0'\n",
    "            else: \n",
    "                print(\"Thanks\")\n",
    "    updated_prod_lst.append(prod_details)\n",
    "lst = []\n",
    "for i in updated_prod_lst:\n",
    "    prod = i[0] + ',' +i[1] + ',' +i[2] + ',' +i[3] + ',' +i[4] + '\\n'    \n",
    "    lst.append(prod)\n",
    "lst[-1] = lst[-1][:-1]\n",
    "fd = open(\"Inventory3.txt\",\"w\")\n",
    "for i in lst:\n",
    "    fd.write(i)\n",
    "fd.close()\n",
    "print(\"-\"*20)\n",
    "print(\"Invetory Updated!\")\n",
    "\n",
    "\n"
   ]
  },
  {
   "cell_type": "code",
   "execution_count": null,
   "id": "e26debe9",
   "metadata": {},
   "outputs": [],
   "source": []
  },
  {
   "cell_type": "markdown",
   "id": "7ff5c955",
   "metadata": {},
   "source": []
  }
 ],
 "metadata": {
  "kernelspec": {
   "display_name": "base",
   "language": "python",
   "name": "python3"
  },
  "language_info": {
   "codemirror_mode": {
    "name": "ipython",
    "version": 3
   },
   "file_extension": ".py",
   "mimetype": "text/x-python",
   "name": "python",
   "nbconvert_exporter": "python",
   "pygments_lexer": "ipython3",
   "version": "3.13.5"
  }
 },
 "nbformat": 4,
 "nbformat_minor": 5
}
