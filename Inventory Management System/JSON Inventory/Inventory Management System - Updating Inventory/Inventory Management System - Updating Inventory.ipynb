{
 "cells": [
  {
   "cell_type": "code",
   "execution_count": 4,
   "id": "f9102059-8364-4af1-9001-cc3dd8b25639",
   "metadata": {},
   "outputs": [
    {
     "name": "stdin",
     "output_type": "stream",
     "text": [
      "Enter Product ID:  1001\n",
      "Enter Product Quantity: 195\n"
     ]
    },
    {
     "name": "stdout",
     "output_type": "stream",
     "text": [
      "--------------------------------------------------\n",
      "Product Name  :  5 Star\n",
      "Price         :  10\n",
      "Quantity      :  195\n",
      "--------------------------------------------------\n",
      "Billing Amount:  1950\n",
      "--------------------------------------------------\n"
     ]
    }
   ],
   "source": [
    "record = {1001:{'Name' : \"5 Star\",         \"Price\" : 10,  \"Qn\" : 200},\n",
    "          1002:{'Name' : \"Bar-One\",        \"Price\" : 20,  \"Qn\" : 20},\n",
    "          1003:{'Name' : \"Candy\",          \"Price\" : 100, \"Qn\" : 2},\n",
    "          1004:{'Name' : \"Chocolate Cake\", \"Price\" : 15,  \"Qn\" : 200},\n",
    "          1005:{'Name' : \"Blueberry Cake\", \"Price\" : 10,  \"Qn\" : 300},}\n",
    "\n",
    "ui_pd_id = int(input(\"Enter Product ID: \"))\n",
    "ui_pd_qn = int(input(\"Enter Product Quantity:\" ))                 \n",
    "\n",
    "# print(type(record.keys()))\n",
    "\n",
    "for key in record.keys():\n",
    "    if(key == ui_pd_id):\n",
    "        print(\"-\"*50)\n",
    "        print(\"Product Name  : \",record[key][\"Name\"])\n",
    "        print(\"Price         : \",record[key][\"Price\"])\n",
    "        print(\"Quantity      : \",ui_pd_qn)\n",
    "        print(\"-\"*50)\n",
    "        print(\"Billing Amount: \", ui_pd_qn * record[key][\"Price\"])\n",
    "        print(\"-\"*50)\n",
    "        record[key][\"Qn\"] = record[key][\"Qn\"] - ui_pd_qn\n",
    "        # print(record[key][\"Qn\"])"
   ]
  },
  {
   "cell_type": "code",
   "execution_count": 5,
   "id": "c55a0873-f116-4edb-80b0-06b883f26234",
   "metadata": {},
   "outputs": [
    {
     "name": "stdout",
     "output_type": "stream",
     "text": [
      "{\"1001\": {\"Name\": \"5 Star\", \"Price\": 10, \"Qn\": 5}, \"1002\": {\"Name\": \"Bar-One\", \"Price\": 20, \"Qn\": 20}, \"1003\": {\"Name\": \"Candy\", \"Price\": 100, \"Qn\": 2}, \"1004\": {\"Name\": \"Chocolate Cake\", \"Price\": 15, \"Qn\": 200}, \"1005\": {\"Name\": \"Blueberry Cake\", \"Price\": 10, \"Qn\": 300}}\n",
      "Inventory Updated\n"
     ]
    }
   ],
   "source": [
    "import json\n",
    "#converting dictionary to JSON string\n",
    "json_data = json.dumps(record)\n",
    "print(json_data)\n",
    "fd = open(\"record.json\", \"w\")\n",
    "fd.write(json_data)\n",
    "fd.close()\n",
    "print(\"Inventory Updated\")\n"
   ]
  },
  {
   "cell_type": "code",
   "execution_count": null,
   "id": "5bad165a-3ab4-4293-89e2-a09733932bf9",
   "metadata": {},
   "outputs": [],
   "source": [
    "record"
   ]
  }
 ],
 "metadata": {
  "kernelspec": {
   "display_name": "Python [conda env:base] *",
   "language": "python",
   "name": "conda-base-py"
  },
  "language_info": {
   "codemirror_mode": {
    "name": "ipython",
    "version": 3
   },
   "file_extension": ".py",
   "mimetype": "text/x-python",
   "name": "python",
   "nbconvert_exporter": "python",
   "pygments_lexer": "ipython3",
   "version": "3.13.5"
  }
 },
 "nbformat": 4,
 "nbformat_minor": 5
}
