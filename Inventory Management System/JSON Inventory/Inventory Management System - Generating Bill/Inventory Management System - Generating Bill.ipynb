{
 "cells": [
  {
   "cell_type": "code",
   "execution_count": 11,
   "id": "23eae454-8997-4f94-9fd5-f02c23940c1b",
   "metadata": {},
   "outputs": [
    {
     "name": "stdin",
     "output_type": "stream",
     "text": [
      "Enter Product ID:  1001\n",
      "Enter Product Quantity: 100\n"
     ]
    },
    {
     "name": "stdout",
     "output_type": "stream",
     "text": [
      "<class 'dict_keys'>\n",
      "--------------------------------------------------\n",
      "Product Name  :  5 Star\n",
      "Price         :  10\n",
      "Quantity      :  100\n",
      "--------------------------------------------------\n",
      "Billing Amount:  1000\n",
      "--------------------------------------------------\n",
      "100\n"
     ]
    }
   ],
   "source": [
    "record = {1001:{'Name' : \"5 Star\",         \"Price\" : 10,  \"Qn\" : 200},\n",
    "          1002:{'Name' : \"Bar-One\",        \"Price\" : 20,  \"Qn\" : 20},\n",
    "          1003:{'Name' : \"Candy\",          \"Price\" : 100, \"Qn\" : 2},\n",
    "          1004:{'Name' : \"Chocolate Cake\", \"Price\" : 15,  \"Qn\" : 200},\n",
    "          1005:{'Name' : \"Blueberry Cake\", \"Price\" : 10,  \"Qn\" : 300},}\n",
    "\n",
    "ui_pd_id = int(input(\"Enter Product ID: \"))\n",
    "ui_pd_qn = int(input(\"Enter Product Quantity:\" ))                 \n",
    "\n",
    "# print(type(record.keys()))\n",
    "\n",
    "for key in record.keys():\n",
    "    if(key == ui_pd_id):\n",
    "        print(\"-\"*50)\n",
    "        print(\"Product Name  : \",record[key][\"Name\"])\n",
    "        print(\"Price         : \",record[key][\"Price\"])\n",
    "        print(\"Quantity      : \",ui_pd_qn)\n",
    "        print(\"-\"*50)\n",
    "        print(\"Billing Amount: \", ui_pd_qn * record[key][\"Price\"])\n",
    "        print(\"-\"*50)\n",
    "        record[key][\"Qn\"] = record[key][\"Qn\"] - ui_pd_qn\n",
    "        # print(record[key][\"Qn\"])"
   ]
  },
  {
   "cell_type": "code",
   "execution_count": 12,
   "id": "c6f84d51-333c-48fd-b5c4-316fa6205981",
   "metadata": {},
   "outputs": [
    {
     "data": {
      "text/plain": [
       "{1001: {'Name': '5 Star', 'Price': 10, 'Qn': 100},\n",
       " 1002: {'Name': 'Bar-One', 'Price': 20, 'Qn': 20},\n",
       " 1003: {'Name': 'Candy', 'Price': 100, 'Qn': 2},\n",
       " 1004: {'Name': 'Chocolate Cake', 'Price': 15, 'Qn': 200},\n",
       " 1005: {'Name': 'Blueberry Cake', 'Price': 10, 'Qn': 300}}"
      ]
     },
     "execution_count": 12,
     "metadata": {},
     "output_type": "execute_result"
    }
   ],
   "source": [
    "record"
   ]
  }
 ],
 "metadata": {
  "kernelspec": {
   "display_name": "Python [conda env:base] *",
   "language": "python",
   "name": "conda-base-py"
  },
  "language_info": {
   "codemirror_mode": {
    "name": "ipython",
    "version": 3
   },
   "file_extension": ".py",
   "mimetype": "text/x-python",
   "name": "python",
   "nbconvert_exporter": "python",
   "pygments_lexer": "ipython3",
   "version": "3.13.5"
  }
 },
 "nbformat": 4,
 "nbformat_minor": 5
}
