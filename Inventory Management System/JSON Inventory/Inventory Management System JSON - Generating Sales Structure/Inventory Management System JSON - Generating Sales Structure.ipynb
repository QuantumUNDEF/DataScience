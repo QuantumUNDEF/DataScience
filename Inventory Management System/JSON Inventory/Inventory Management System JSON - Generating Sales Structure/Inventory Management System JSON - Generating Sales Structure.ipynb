{
 "cells": [
  {
   "cell_type": "code",
   "execution_count": 7,
   "id": "4ab26f45-0c46-45f9-ba1e-0f64963f7f08",
   "metadata": {},
   "outputs": [
    {
     "name": "stdout",
     "output_type": "stream",
     "text": [
      "--------------------MENU---------------------\n",
      "1001 5 Star 10 20\n",
      "1002 Bar-One 20 20\n",
      "1003 Candy 100 0\n",
      "1004 Chocolate Cake 15 200\n",
      "1005 Blueberry Cake 10 300\n",
      "---------------------------------------------\n",
      "\n"
     ]
    },
    {
     "name": "stdin",
     "output_type": "stream",
     "text": [
      "Enter your Name : Bhavana\n",
      "Enter your Contact Number:  9897666358\n",
      "Enter your Mail :  bhavana@gmail.com\n",
      "Enter product ID :  1005\n",
      "Enter Quantiry   :  9\n"
     ]
    },
    {
     "name": "stdout",
     "output_type": "stream",
     "text": [
      "---------------------------------------------\n",
      "\n",
      "Name      :  Blueberry Cake\n",
      "Price (Rs):  10\n",
      "Quantity  :  9\n",
      "---------------------------------------------\n",
      "Billing   :  90 Rs\n",
      "---------------------------------------------\n",
      "\n",
      "---------------------------------------------\n",
      "  Thanks for your order, Inventory Updated!  \n",
      "---------------------------------------------\n"
     ]
    }
   ],
   "source": [
    "import json\n",
    "import time\n",
    "#open the jsopn file and convert the data to the dictonary using load function\n",
    "ch = 'Y'\n",
    "fd = open('Record.json','r')\n",
    "js = fd.read() #read the json file as string\n",
    "fd.close()#load json but we will work onthe dictonary\n",
    "\n",
    "record = json.loads(js) #create a dict from json file or string for iterating over the dict keys\n",
    "\n",
    "print(\"--------------------MENU---------------------\")\n",
    "for key in record.keys():\n",
    "    print(key, record[key]['Name'], record[key]['Price'], record[key]['Qn'])\n",
    "print(\"---------------------------------------------\")\n",
    "print('')\n",
    "ui_name = input(\"Enter your Name :\")\n",
    "ui_phone = input(\"Enter your Contact Number: \")\n",
    "ui_mail = input(\"Enter your Mail : \")\n",
    "ui_pr = str(input(\"Enter product ID : \"))\n",
    "ui_qn = int(input(\"Enter Quantiry   : \"))\n",
    "\n",
    "print(\"---------------------------------------------\")\n",
    "print('')\n",
    "#checking the stock\n",
    "if (record[ui_pr]['Qn'] >= ui_qn):\n",
    "\n",
    "    print(\"Name      : \", record[ui_pr][\"Name\"])\n",
    "    print(\"Price (Rs): \", record[ui_pr][\"Price\"])\n",
    "    print(\"Quantity  : \", ui_qn)\n",
    "    print(\"---------------------------------------------\")\n",
    "    print(\"Billing   : \", ui_qn * record[ui_pr][\"Price\"], \"Rs\")\n",
    "    print(\"---------------------------------------------\")\n",
    "    #updating the quantity in dict\n",
    "    fd = open(\"Sales.txt\",\"a\")\n",
    "    sale = ui_name + \",\" + ui_phone + \",\" + ui_mail + \",\" + record[ui_pr][\"Name\"] + \",\" + str(record[ui_pr][\"Price\"]) + \",\" + str(ui_qn) + \",\" + str(ui_qn * record[ui_pr][\"Price\"])+ \",\" +time.ctime() + \"\\n\"\n",
    "    fd.write(sale)\n",
    "    fd.close()\n",
    "    record[ui_pr]['Qn'] = record[ui_pr]['Qn'] - ui_qn\n",
    "\n",
    "else:\n",
    "    \n",
    "    print(\"Sorry, We're not having enough quanity of product in our Inventory.\")\n",
    "    print(\"We're only having \" + str(record[ui_pr]['Qn']) + \" quantity.\")\n",
    "    print(\"---------------------------------------------\")\n",
    "    \n",
    "    ch == str(input(\"Press Y to purchase: \"))\n",
    "    \n",
    "    if(ch == \"Y\" or ch == 'y'):\n",
    "\n",
    "        print(\"---------------------------------------------\")\n",
    "        print(\"Name      : \", record[ui_pr][\"Name\"])\n",
    "        print(\"Price (Rs): \", record[ui_pr][\"Price\"])\n",
    "        print(\"Quantity  : \", record[ui_pr]['Qn'])\n",
    "        print(\"---------------------------------------------\")\n",
    "        print(\"Billing   : \", record[ui_pr]['Qn'] * record[ui_pr][\"Price\"], \"Rs\")\n",
    "        print(\"---------------------------------------------\")\n",
    "        #updating quantity\n",
    "        fd = open(\"Sales.txt\",\"a\")\n",
    "        sale = ui_name + \",\" + ui_phone + \",\" + ui_mail + \",\" + record[ui_pr][\"Name\"] + \",\" + str(record[ui_pr][\"Price\"]) + \",\" + str(record[ui_pr]['Qn'])  + \",\" + str(record[ui_pr]['Qn']* record[ui_pr][\"Price\"])+ \",\" +time.ctime() + \"\\n\"\n",
    "        fd.write(sale)\n",
    "        fd.close()\n",
    "        record[ui_pr]['Qn'] = 0\n",
    "        \n",
    "    else:\n",
    "        print(\"Thanks!\")\n",
    "#till now we worked on the python object Dictonary\n",
    "#but we have to save this python obj to the file \n",
    "# so we need a function that can do so\n",
    "#json.dupms() function create the string from the dictionary obj\n",
    "js = json.dumps(record)\n",
    "#here js is the string formetted dictionary basically string\n",
    "fd = open('Record.json','w')\n",
    "fd.write(js) \n",
    "# we wrote the string in json file now\n",
    "fd.close()\n",
    "\n",
    "print('')\n",
    "print(\"---------------------------------------------\")\n",
    "print(\"  Thanks for your order, Inventory Updated!  \")\n",
    "print(\"---------------------------------------------\")"
   ]
  }
 ],
 "metadata": {
  "kernelspec": {
   "display_name": "Python [conda env:base] *",
   "language": "python",
   "name": "conda-base-py"
  },
  "language_info": {
   "codemirror_mode": {
    "name": "ipython",
    "version": 3
   },
   "file_extension": ".py",
   "mimetype": "text/x-python",
   "name": "python",
   "nbconvert_exporter": "python",
   "pygments_lexer": "ipython3",
   "version": "3.13.5"
  }
 },
 "nbformat": 4,
 "nbformat_minor": 5
}
