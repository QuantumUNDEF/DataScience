{
 "cells": [
  {
   "cell_type": "code",
   "execution_count": 3,
   "id": "19e4e40b-5872-4aff-969e-eef490d41fe8",
   "metadata": {},
   "outputs": [
    {
     "name": "stdin",
     "output_type": "stream",
     "text": [
      "Enter Product ID:  1003\n",
      "Enter Product Quantity: 5\n"
     ]
    },
    {
     "name": "stdout",
     "output_type": "stream",
     "text": [
      "--------------------------------------------------\n",
      "Product Name  :  Candy\n",
      "Price         :  100\n",
      "Quantity      :  5\n",
      "--------------------------------------------------\n",
      "Billing Amount:  500\n",
      "--------------------------------------------------\n",
      "Inventory Updated\n"
     ]
    }
   ],
   "source": [
    "import json\n",
    "fd = open(\"record.json\", \"r\")\n",
    "js = fd.read() # reading in string converted dictionary form record.json \n",
    "fd.close()\n",
    "record = json.loads(js) #revert the whole string into dictionary \n",
    "\n",
    "# record = {1001:{'Name' : \"5 Star\",         \"Price\" : 10,  \"Qn\" : 200},\n",
    "#           1002:{'Name' : \"Bar-One\",        \"Price\" : 20,  \"Qn\" : 20},\n",
    "#           1003:{'Name' : \"Candy\",          \"Price\" : 100, \"Qn\" : 2},\n",
    "#           1004:{'Name' : \"Chocolate Cake\", \"Price\" : 15,  \"Qn\" : 200},\n",
    "#           1005:{'Name' : \"Blueberry Cake\", \"Price\" : 10,  \"Qn\" : 300},}\n",
    "\n",
    "ui_pd_id = str(input(\"Enter Product ID: \"))\n",
    "ui_pd_qn = int(input(\"Enter Product Quantity:\" ))                 \n",
    "\n",
    "# print(type(record.keys()))\n",
    "\n",
    "for key in record.keys():\n",
    "    if(key == ui_pd_id):\n",
    "        print(\"-\"*50)\n",
    "        print(\"Product Name  : \",record[key][\"Name\"])\n",
    "        print(\"Price         : \",record[key][\"Price\"])\n",
    "        print(\"Quantity      : \",ui_pd_qn)\n",
    "        print(\"-\"*50)\n",
    "        print(\"Billing Amount: \", ui_pd_qn * record[key][\"Price\"])\n",
    "        print(\"-\"*50)\n",
    "        record[key][\"Qn\"] = record[key][\"Qn\"] - ui_pd_qn\n",
    "        # print(record[key][\"Qn\"])\n",
    "\n",
    "\n",
    "#converting dictionary to JSON string\n",
    "json_data = json.dumps(record)\n",
    "# print(json_data)\n",
    "fd = open(\"record.json\", \"w\")\n",
    "fd.write(json_data)\n",
    "fd.close()\n",
    "print(\"Inventory Updated\")\n"
   ]
  },
  {
   "cell_type": "code",
   "execution_count": null,
   "id": "e2c563bf-0e29-444c-8506-463519d0a7a5",
   "metadata": {},
   "outputs": [],
   "source": []
  }
 ],
 "metadata": {
  "kernelspec": {
   "display_name": "Python [conda env:base] *",
   "language": "python",
   "name": "conda-base-py"
  },
  "language_info": {
   "codemirror_mode": {
    "name": "ipython",
    "version": 3
   },
   "file_extension": ".py",
   "mimetype": "text/x-python",
   "name": "python",
   "nbconvert_exporter": "python",
   "pygments_lexer": "ipython3",
   "version": "3.13.5"
  }
 },
 "nbformat": 4,
 "nbformat_minor": 5
}
