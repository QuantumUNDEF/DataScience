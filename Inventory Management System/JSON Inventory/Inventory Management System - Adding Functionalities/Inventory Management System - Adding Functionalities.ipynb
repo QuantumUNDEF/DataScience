{
 "cells": [
  {
   "cell_type": "code",
   "execution_count": 4,
   "id": "343e2d61-064e-4cb3-8ac4-00fa89bbeba2",
   "metadata": {},
   "outputs": [
    {
     "name": "stdout",
     "output_type": "stream",
     "text": [
      "--------------------MENU---------------------\n",
      "1001 5 Star 10 0\n",
      "1002 Bar-One 20 20\n",
      "1003 Candy 100 2\n",
      "1004 Chocolate Cake 15 200\n",
      "1005 Blueberry Cake 10 300\n",
      "---------------------------------------------\n",
      "\n"
     ]
    },
    {
     "name": "stdin",
     "output_type": "stream",
     "text": [
      "Enter product ID :  1005]\n",
      "Enter Quantiry   :  3\n"
     ]
    },
    {
     "name": "stdout",
     "output_type": "stream",
     "text": [
      "---------------------------------------------\n",
      "\n"
     ]
    },
    {
     "ename": "KeyError",
     "evalue": "'1005]'",
     "output_type": "error",
     "traceback": [
      "\u001b[1;31m---------------------------------------------------------------------------\u001b[0m",
      "\u001b[1;31mKeyError\u001b[0m                                  Traceback (most recent call last)",
      "Cell \u001b[1;32mIn[4], line 22\u001b[0m\n\u001b[0;32m     19\u001b[0m \u001b[38;5;28mprint\u001b[39m(\u001b[38;5;124m\"\u001b[39m\u001b[38;5;124m---------------------------------------------\u001b[39m\u001b[38;5;124m\"\u001b[39m)\n\u001b[0;32m     20\u001b[0m \u001b[38;5;28mprint\u001b[39m(\u001b[38;5;124m'\u001b[39m\u001b[38;5;124m'\u001b[39m)\n\u001b[1;32m---> 22\u001b[0m \u001b[38;5;28;01mif\u001b[39;00m (record[ui_pr][\u001b[38;5;124m'\u001b[39m\u001b[38;5;124mQn\u001b[39m\u001b[38;5;124m'\u001b[39m] \u001b[38;5;241m>\u001b[39m\u001b[38;5;241m=\u001b[39m ui_qn):\n\u001b[0;32m     24\u001b[0m     \u001b[38;5;28mprint\u001b[39m(\u001b[38;5;124m\"\u001b[39m\u001b[38;5;124mName      : \u001b[39m\u001b[38;5;124m\"\u001b[39m, record[ui_pr][\u001b[38;5;124m\"\u001b[39m\u001b[38;5;124mName\u001b[39m\u001b[38;5;124m\"\u001b[39m])\n\u001b[0;32m     25\u001b[0m     \u001b[38;5;28mprint\u001b[39m(\u001b[38;5;124m\"\u001b[39m\u001b[38;5;124mPrice (Rs): \u001b[39m\u001b[38;5;124m\"\u001b[39m, record[ui_pr][\u001b[38;5;124m\"\u001b[39m\u001b[38;5;124mPrice\u001b[39m\u001b[38;5;124m\"\u001b[39m])\n",
      "\u001b[1;31mKeyError\u001b[0m: '1005]'"
     ]
    }
   ],
   "source": [
    "import json\n",
    "#open the jsopn file and convert the data to the dictonary using load function\n",
    "ch = 'Y'\n",
    "fd = open('Record.json','r')\n",
    "js = fd.read() #read the json file as string\n",
    "fd.close()#load json but we will work onthe dictonary\n",
    "\n",
    "record = json.loads(js) #create a dict from json file or string for iterating over the dict keys\n",
    "\n",
    "print(\"--------------------MENU---------------------\")\n",
    "for key in record.keys():\n",
    "    print(key, record[key]['Name'], record[key]['Price'], record[key]['Qn'])\n",
    "print(\"---------------------------------------------\")\n",
    "print('')\n",
    "\n",
    "ui_pr = str(input(\"Enter product ID : \"))\n",
    "ui_qn = int(input(\"Enter Quantiry   : \"))\n",
    "\n",
    "print(\"---------------------------------------------\")\n",
    "print('')\n",
    "#checking the stock\n",
    "if (record[ui_pr]['Qn'] >= ui_qn):\n",
    "\n",
    "    print(\"Name      : \", record[ui_pr][\"Name\"])\n",
    "    print(\"Price (Rs): \", record[ui_pr][\"Price\"])\n",
    "    print(\"Quantity  : \", ui_qn)\n",
    "    print(\"---------------------------------------------\")\n",
    "    print(\"Billing   : \", ui_qn * record[ui_pr][\"Price\"], \"Rs\")\n",
    "    print(\"---------------------------------------------\")\n",
    "    #updating the quantity in dict\n",
    "    record[ui_pr]['Qn'] = record[ui_pr]['Qn'] - ui_qn\n",
    "\n",
    "else:\n",
    "    \n",
    "    print(\"Sorry, We're not having enough quanity of product in our Inventory.\")\n",
    "    print(\"We're only having \" + str(record[ui_pr]['Qn']) + \" quantity.\")\n",
    "    print(\"---------------------------------------------\")\n",
    "    \n",
    "    ch == str(input(\"Press Y to purchase: \"))\n",
    "    \n",
    "    if(ch == \"Y\" or ch == 'y'):\n",
    "\n",
    "        print(\"---------------------------------------------\")\n",
    "        print(\"Name      : \", record[ui_pr][\"Name\"])\n",
    "        print(\"Price (Rs): \", record[ui_pr][\"Price\"])\n",
    "        print(\"Quantity  : \", record[ui_pr]['Qn'])\n",
    "        print(\"---------------------------------------------\")\n",
    "        print(\"Billing   : \", record[ui_pr]['Qn'] * record[ui_pr][\"Price\"], \"Rs\")\n",
    "        print(\"---------------------------------------------\")\n",
    "        #updating quantity\n",
    "        record[ui_pr]['Qn'] = 0\n",
    "        \n",
    "    else:\n",
    "        print(\"Thanks!\")\n",
    "#till now we worked on the python object Dictonary\n",
    "#but we have to save this python obj to the file \n",
    "# so we need a function that can do so\n",
    "#json.dupms() function create the string from the dictionary obj\n",
    "js = json.dumps(record)\n",
    "#here js is the string formetted dictionary basically string\n",
    "fd = open('Record.json','w')\n",
    "fd.write(js) \n",
    "# we wrote the string in json file now\n",
    "fd.close()\n",
    "\n",
    "print('')\n",
    "print(\"---------------------------------------------\")\n",
    "print(\"  Thanks for your order, Inventory Updated!  \")\n",
    "print(\"---------------------------------------------\")"
   ]
  }
 ],
 "metadata": {
  "kernelspec": {
   "display_name": "Python [conda env:base] *",
   "language": "python",
   "name": "conda-base-py"
  },
  "language_info": {
   "codemirror_mode": {
    "name": "ipython",
    "version": 3
   },
   "file_extension": ".py",
   "mimetype": "text/x-python",
   "name": "python",
   "nbconvert_exporter": "python",
   "pygments_lexer": "ipython3",
   "version": "3.13.5"
  }
 },
 "nbformat": 4,
 "nbformat_minor": 5
}
