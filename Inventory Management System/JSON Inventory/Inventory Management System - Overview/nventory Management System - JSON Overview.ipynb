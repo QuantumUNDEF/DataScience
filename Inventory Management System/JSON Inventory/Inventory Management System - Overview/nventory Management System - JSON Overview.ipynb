{
 "cells": [
  {
   "cell_type": "code",
   "execution_count": 7,
   "id": "5b43b169-6307-401e-a954-3aae7186688e",
   "metadata": {},
   "outputs": [],
   "source": [
    "record = {1001:{'Name' : \"5 Star\",         \"Price\" : 10,  \"Qn\" : 200},\n",
    "          1002:{'Name' : \"Bar-One\",        \"Price\" : 20,  \"Qn\" : 20},\n",
    "          1003:{'Name' : \"Candy\",          \"Price\" : 100, \"Qn\" : 2},\n",
    "          1004:{'Name' : \"Chocolate Cake\", \"Price\" : 15,  \"Qn\" : 200},\n",
    "          1005:{'Name' : \"Blueberry Cake\", \"Price\" : 10,  \"Qn\" : 300},}"
   ]
  },
  {
   "cell_type": "code",
   "execution_count": 8,
   "id": "9ce7fc76-b42e-408b-bbc8-fc54e79055da",
   "metadata": {},
   "outputs": [
    {
     "data": {
      "text/plain": [
       "{1001: {'Name': '5 Star', 'Price': 10, 'Qn': 200},\n",
       " 1002: {'Name': 'Bar-One', 'Price': 20, 'Qn': 20},\n",
       " 1003: {'Name': 'Candy', 'Price': 100, 'Qn': 2},\n",
       " 1004: {'Name': 'Chocolate Cake', 'Price': 15, 'Qn': 200},\n",
       " 1005: {'Name': 'Blueberry Cake', 'Price': 10, 'Qn': 300}}"
      ]
     },
     "execution_count": 8,
     "metadata": {},
     "output_type": "execute_result"
    }
   ],
   "source": [
    "record"
   ]
  },
  {
   "cell_type": "code",
   "execution_count": 9,
   "id": "9bbae658-760b-4654-b422-510340ffd27b",
   "metadata": {},
   "outputs": [
    {
     "name": "stdout",
     "output_type": "stream",
     "text": [
      "5 Star\n",
      "10\n",
      "200\n",
      "Bar-One\n"
     ]
    }
   ],
   "source": [
    "print(record[1001][\"Name\"],\n",
    "record[1001][\"Price\"],\n",
    "record[1001][\"Qn\"],\n",
    "record[1002][\"Name\"], sep =\"\\n\")"
   ]
  }
 ],
 "metadata": {
  "kernelspec": {
   "display_name": "Python [conda env:base] *",
   "language": "python",
   "name": "conda-base-py"
  },
  "language_info": {
   "codemirror_mode": {
    "name": "ipython",
    "version": 3
   },
   "file_extension": ".py",
   "mimetype": "text/x-python",
   "name": "python",
   "nbconvert_exporter": "python",
   "pygments_lexer": "ipython3",
   "version": "3.13.5"
  }
 },
 "nbformat": 4,
 "nbformat_minor": 5
}
