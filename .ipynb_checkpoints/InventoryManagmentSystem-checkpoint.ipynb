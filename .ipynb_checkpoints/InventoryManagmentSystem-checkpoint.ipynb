{
 "cells": [
  {
   "cell_type": "code",
   "execution_count": 2,
   "id": "ffc99fd6-9f9b-476f-9706-37a9ae092fcc",
   "metadata": {},
   "outputs": [],
   "source": [
    "with open(\"inventory.txt\", \"w\") as file:\n",
    "    file.write(\"1, Chocolate, 5, 100\\n\")\n",
    "    file.write(\"2, Milky Bar, 10, 50\\n\")\n",
    "    file.write(\"3, Cake, 300, 5\\n\")\n",
    "    file.write(\"4, Candy, 1, 200\\n\")\n",
    "    \n",
    "               "
   ]
  },
  {
   "cell_type": "code",
   "execution_count": null,
   "id": "8dafa24b-b5d0-48de-89b6-30850cd3bf96",
   "metadata": {},
   "outputs": [],
   "source": []
  }
 ],
 "metadata": {
  "kernelspec": {
   "display_name": "Python [conda env:base] *",
   "language": "python",
   "name": "conda-base-py"
  },
  "language_info": {
   "codemirror_mode": {
    "name": "ipython",
    "version": 3
   },
   "file_extension": ".py",
   "mimetype": "text/x-python",
   "name": "python",
   "nbconvert_exporter": "python",
   "pygments_lexer": "ipython3",
   "version": "3.13.5"
  }
 },
 "nbformat": 4,
 "nbformat_minor": 5
}
